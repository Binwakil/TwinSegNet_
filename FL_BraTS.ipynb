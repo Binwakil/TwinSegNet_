{
 "cells": [
  {
   "cell_type": "markdown",
   "id": "f22f3d75",
   "metadata": {},
   "source": [
    "# Federated Learning with BraTS 2021 Dataset\n",
    "This notebook implements a federated learning framework for brain tumor segmentation using the BraTS 2021 dataset."
   ]
  },
  {
   "cell_type": "code",
   "execution_count": 1,
   "id": "9cd53492",
   "metadata": {},
   "outputs": [],
   "source": [
    "import os\n",
    "import numpy as np\n",
    "import nibabel as nib\n",
    "import tensorflow as tf\n",
    "import cv2\n",
    "import matplotlib.pyplot as plt\n",
    "import seaborn as sns\n",
    "from tensorflow import keras\n",
    "from tensorflow.keras import layers\n",
    "from sklearn.metrics import roc_curve, auc\n"
   ]
  },
  {
   "cell_type": "code",
   "execution_count": 2,
   "id": "e2c7ce96",
   "metadata": {},
   "outputs": [],
   "source": [
    "# Define dataset paths and constants\n",
    "images_path = 'Data/BraTS2021'\n",
    "IMG_SIZE = 128  # Resize images\n",
    "VOLUME_SLICES = 50  # Number of slices per patient\n",
    "VOLUME_START_AT = 22  # Start slicing from this index\n",
    "\n",
    "# Load dataset file paths and shuffle\n",
    "all_patients = [os.path.join(images_path, p) for p in os.listdir(images_path)]\n",
    "np.random.shuffle(all_patients)\n",
    "\n",
    "# Split dataset among hospitals (nodes)\n",
    "nodes = {\n",
    "    \"Hospital_1\": all_patients[:len(all_patients)//3],\n",
    "    \"Hospital_2\": all_patients[len(all_patients)//3:2*len(all_patients)//3],\n",
    "    \"Hospital_3\": all_patients[2*len(all_patients)//3:]\n",
    "}\n"
   ]
  },
  {
   "cell_type": "code",
   "execution_count": 3,
   "id": "d9aff78c",
   "metadata": {},
   "outputs": [],
   "source": [
    "class DataGenerator(keras.utils.Sequence):\n",
    "    def __init__(self, list_IDs, batch_size=1, dim=(IMG_SIZE, IMG_SIZE), n_channels=2, shuffle=True):\n",
    "        self.dim = dim\n",
    "        self.batch_size = batch_size\n",
    "        self.list_IDs = list_IDs\n",
    "        self.n_channels = n_channels\n",
    "        self.shuffle = shuffle\n",
    "        self.on_epoch_end()\n",
    "\n",
    "    def __len__(self):\n",
    "        return int(np.floor(len(self.list_IDs) / self.batch_size))\n",
    "\n",
    "    def __getitem__(self, index):\n",
    "        indexes = self.indexes[index * self.batch_size:(index + 1) * self.batch_size]\n",
    "        Batch_ids = [self.list_IDs[k] for k in indexes]\n",
    "        X, y = self.__data_generation(Batch_ids)\n",
    "        return X, y\n",
    "\n",
    "    def on_epoch_end(self):\n",
    "        self.indexes = np.arange(len(self.list_IDs))\n",
    "        if self.shuffle:\n",
    "            np.random.shuffle(self.indexes)\n",
    "\n",
    "    def __data_generation(self, Batch_ids):\n",
    "        X = np.zeros((self.batch_size * VOLUME_SLICES, *self.dim, self.n_channels))\n",
    "        y = np.zeros((self.batch_size * VOLUME_SLICES, 240, 240))\n",
    "\n",
    "        for c, i in enumerate(Batch_ids):\n",
    "            case_path = os.path.join(images_path, os.path.basename(i), os.path.basename(i))\n",
    "            flair = nib.load(f'{case_path}_flair.nii').get_fdata()\n",
    "            ce = nib.load(f'{case_path}_t1ce.nii').get_fdata()\n",
    "            seg = nib.load(f'{case_path}_seg.nii').get_fdata()\n",
    "\n",
    "            for j in range(VOLUME_SLICES):\n",
    "                X[j + VOLUME_SLICES * c, :, :, 0] = cv2.resize(flair[:, :, j + VOLUME_START_AT], (IMG_SIZE, IMG_SIZE))\n",
    "                X[j + VOLUME_SLICES * c, :, :, 1] = cv2.resize(ce[:, :, j + VOLUME_START_AT], (IMG_SIZE, IMG_SIZE))\n",
    "                y[j + VOLUME_SLICES * c] = seg[:, :, j + VOLUME_START_AT]\n",
    "\n",
    "        y[y == 4] = 3  # Adjust class values\n",
    "        mask = tf.one_hot(y, 4)\n",
    "        Y = tf.image.resize(mask, (IMG_SIZE, IMG_SIZE), method=tf.image.ResizeMethod.NEAREST_NEIGHBOR)\n",
    "\n",
    "        return X / np.max(X), Y\n"
   ]
  },
  {
   "cell_type": "code",
   "execution_count": 4,
   "id": "c210a4bd",
   "metadata": {},
   "outputs": [],
   "source": [
    "def create_resunet_with_attention(input_shape=(128, 128, 2)):\n",
    "    inputs = layers.Input(shape=input_shape)\n",
    "\n",
    "    def conv_block(x, filters):\n",
    "        res = x\n",
    "        x = layers.Conv2D(filters, (3, 3), padding=\"same\", activation=\"relu\")(x)\n",
    "        x = layers.Conv2D(filters, (3, 3), padding=\"same\", activation=\"relu\")(x)\n",
    "        x = layers.Add()([x, res])\n",
    "        x = layers.MaxPooling2D((2, 2))(x)\n",
    "        return x\n",
    "\n",
    "    def decoder_block(x, skip, filters):\n",
    "        x = layers.Conv2DTranspose(filters, (2, 2), strides=(2, 2), padding=\"same\")(x)\n",
    "        attention = layers.Multiply()([x, skip])  \n",
    "        x = layers.Concatenate()([x, attention])\n",
    "        x = layers.Conv2D(filters, (3, 3), padding=\"same\", activation=\"relu\")(x)\n",
    "        return x\n",
    "\n",
    "    c1 = conv_block(inputs, 64)\n",
    "    c2 = conv_block(c1, 128)\n",
    "    c3 = conv_block(c2, 256)\n",
    "\n",
    "    bottleneck = layers.Conv2D(512, (3, 3), padding=\"same\", activation=\"relu\")(c3)\n",
    "\n",
    "    d3 = decoder_block(bottleneck, c3, 256)\n",
    "    d2 = decoder_block(d3, c2, 128)\n",
    "    d1 = decoder_block(d2, c1, 64)\n",
    "\n",
    "    outputs = layers.Conv2D(4, (1, 1), activation=\"softmax\")(d1)\n",
    "\n",
    "    return keras.Model(inputs, outputs)\n"
   ]
  },
  {
   "cell_type": "code",
   "execution_count": 5,
   "id": "2798f28e",
   "metadata": {},
   "outputs": [
    {
     "ename": "ValueError",
     "evalue": "Inputs have incompatible shapes. Received shapes (128, 128, 64) and (128, 128, 2)",
     "output_type": "error",
     "traceback": [
      "\u001b[1;31m---------------------------------------------------------------------------\u001b[0m",
      "\u001b[1;31mValueError\u001b[0m                                Traceback (most recent call last)",
      "Cell \u001b[1;32mIn[5], line 2\u001b[0m\n\u001b[0;32m      1\u001b[0m num_rounds \u001b[38;5;241m=\u001b[39m \u001b[38;5;241m5\u001b[39m  \u001b[38;5;66;03m# Increase rounds for better generalization\u001b[39;00m\n\u001b[1;32m----> 2\u001b[0m global_model \u001b[38;5;241m=\u001b[39m \u001b[43mcreate_resunet_with_attention\u001b[49m\u001b[43m(\u001b[49m\u001b[43m)\u001b[49m\n\u001b[0;32m      4\u001b[0m \u001b[38;5;28;01mdef\u001b[39;00m \u001b[38;5;21mfederated_averaging\u001b[39m(weight_list):\n\u001b[0;32m      5\u001b[0m     avg_weights \u001b[38;5;241m=\u001b[39m []\n",
      "Cell \u001b[1;32mIn[4], line 19\u001b[0m, in \u001b[0;36mcreate_resunet_with_attention\u001b[1;34m(input_shape)\u001b[0m\n\u001b[0;32m     16\u001b[0m     x \u001b[38;5;241m=\u001b[39m layers\u001b[38;5;241m.\u001b[39mConv2D(filters, (\u001b[38;5;241m3\u001b[39m, \u001b[38;5;241m3\u001b[39m), padding\u001b[38;5;241m=\u001b[39m\u001b[38;5;124m\"\u001b[39m\u001b[38;5;124msame\u001b[39m\u001b[38;5;124m\"\u001b[39m, activation\u001b[38;5;241m=\u001b[39m\u001b[38;5;124m\"\u001b[39m\u001b[38;5;124mrelu\u001b[39m\u001b[38;5;124m\"\u001b[39m)(x)\n\u001b[0;32m     17\u001b[0m     \u001b[38;5;28;01mreturn\u001b[39;00m x\n\u001b[1;32m---> 19\u001b[0m c1 \u001b[38;5;241m=\u001b[39m \u001b[43mconv_block\u001b[49m\u001b[43m(\u001b[49m\u001b[43minputs\u001b[49m\u001b[43m,\u001b[49m\u001b[43m \u001b[49m\u001b[38;5;241;43m64\u001b[39;49m\u001b[43m)\u001b[49m\n\u001b[0;32m     20\u001b[0m c2 \u001b[38;5;241m=\u001b[39m conv_block(c1, \u001b[38;5;241m128\u001b[39m)\n\u001b[0;32m     21\u001b[0m c3 \u001b[38;5;241m=\u001b[39m conv_block(c2, \u001b[38;5;241m256\u001b[39m)\n",
      "Cell \u001b[1;32mIn[4], line 8\u001b[0m, in \u001b[0;36mcreate_resunet_with_attention.<locals>.conv_block\u001b[1;34m(x, filters)\u001b[0m\n\u001b[0;32m      6\u001b[0m x \u001b[38;5;241m=\u001b[39m layers\u001b[38;5;241m.\u001b[39mConv2D(filters, (\u001b[38;5;241m3\u001b[39m, \u001b[38;5;241m3\u001b[39m), padding\u001b[38;5;241m=\u001b[39m\u001b[38;5;124m\"\u001b[39m\u001b[38;5;124msame\u001b[39m\u001b[38;5;124m\"\u001b[39m, activation\u001b[38;5;241m=\u001b[39m\u001b[38;5;124m\"\u001b[39m\u001b[38;5;124mrelu\u001b[39m\u001b[38;5;124m\"\u001b[39m)(x)\n\u001b[0;32m      7\u001b[0m x \u001b[38;5;241m=\u001b[39m layers\u001b[38;5;241m.\u001b[39mConv2D(filters, (\u001b[38;5;241m3\u001b[39m, \u001b[38;5;241m3\u001b[39m), padding\u001b[38;5;241m=\u001b[39m\u001b[38;5;124m\"\u001b[39m\u001b[38;5;124msame\u001b[39m\u001b[38;5;124m\"\u001b[39m, activation\u001b[38;5;241m=\u001b[39m\u001b[38;5;124m\"\u001b[39m\u001b[38;5;124mrelu\u001b[39m\u001b[38;5;124m\"\u001b[39m)(x)\n\u001b[1;32m----> 8\u001b[0m x \u001b[38;5;241m=\u001b[39m \u001b[43mlayers\u001b[49m\u001b[38;5;241;43m.\u001b[39;49m\u001b[43mAdd\u001b[49m\u001b[43m(\u001b[49m\u001b[43m)\u001b[49m\u001b[43m(\u001b[49m\u001b[43m[\u001b[49m\u001b[43mx\u001b[49m\u001b[43m,\u001b[49m\u001b[43m \u001b[49m\u001b[43mres\u001b[49m\u001b[43m]\u001b[49m\u001b[43m)\u001b[49m\n\u001b[0;32m      9\u001b[0m x \u001b[38;5;241m=\u001b[39m layers\u001b[38;5;241m.\u001b[39mMaxPooling2D((\u001b[38;5;241m2\u001b[39m, \u001b[38;5;241m2\u001b[39m))(x)\n\u001b[0;32m     10\u001b[0m \u001b[38;5;28;01mreturn\u001b[39;00m x\n",
      "File \u001b[1;32mc:\\Users\\binwa\\anaconda3\\envs\\mlenv\\lib\\site-packages\\keras\\src\\utils\\traceback_utils.py:70\u001b[0m, in \u001b[0;36mfilter_traceback.<locals>.error_handler\u001b[1;34m(*args, **kwargs)\u001b[0m\n\u001b[0;32m     67\u001b[0m     filtered_tb \u001b[38;5;241m=\u001b[39m _process_traceback_frames(e\u001b[38;5;241m.\u001b[39m__traceback__)\n\u001b[0;32m     68\u001b[0m     \u001b[38;5;66;03m# To get the full stack trace, call:\u001b[39;00m\n\u001b[0;32m     69\u001b[0m     \u001b[38;5;66;03m# `tf.debugging.disable_traceback_filtering()`\u001b[39;00m\n\u001b[1;32m---> 70\u001b[0m     \u001b[38;5;28;01mraise\u001b[39;00m e\u001b[38;5;241m.\u001b[39mwith_traceback(filtered_tb) \u001b[38;5;28;01mfrom\u001b[39;00m \u001b[38;5;28;01mNone\u001b[39;00m\n\u001b[0;32m     71\u001b[0m \u001b[38;5;28;01mfinally\u001b[39;00m:\n\u001b[0;32m     72\u001b[0m     \u001b[38;5;28;01mdel\u001b[39;00m filtered_tb\n",
      "File \u001b[1;32mc:\\Users\\binwa\\anaconda3\\envs\\mlenv\\lib\\site-packages\\keras\\src\\layers\\merging\\base_merge.py:74\u001b[0m, in \u001b[0;36m_Merge._compute_elemwise_op_output_shape\u001b[1;34m(self, shape1, shape2)\u001b[0m\n\u001b[0;32m     72\u001b[0m     \u001b[38;5;28;01melse\u001b[39;00m:\n\u001b[0;32m     73\u001b[0m         \u001b[38;5;28;01mif\u001b[39;00m i \u001b[38;5;241m!=\u001b[39m j:\n\u001b[1;32m---> 74\u001b[0m             \u001b[38;5;28;01mraise\u001b[39;00m \u001b[38;5;167;01mValueError\u001b[39;00m(\n\u001b[0;32m     75\u001b[0m                 \u001b[38;5;124m\"\u001b[39m\u001b[38;5;124mInputs have incompatible shapes. \u001b[39m\u001b[38;5;124m\"\u001b[39m\n\u001b[0;32m     76\u001b[0m                 \u001b[38;5;124mf\u001b[39m\u001b[38;5;124m\"\u001b[39m\u001b[38;5;124mReceived shapes \u001b[39m\u001b[38;5;132;01m{\u001b[39;00mshape1\u001b[38;5;132;01m}\u001b[39;00m\u001b[38;5;124m and \u001b[39m\u001b[38;5;132;01m{\u001b[39;00mshape2\u001b[38;5;132;01m}\u001b[39;00m\u001b[38;5;124m\"\u001b[39m\n\u001b[0;32m     77\u001b[0m             )\n\u001b[0;32m     78\u001b[0m         output_shape\u001b[38;5;241m.\u001b[39mappend(i)\n\u001b[0;32m     79\u001b[0m \u001b[38;5;28;01mreturn\u001b[39;00m \u001b[38;5;28mtuple\u001b[39m(output_shape)\n",
      "\u001b[1;31mValueError\u001b[0m: Inputs have incompatible shapes. Received shapes (128, 128, 64) and (128, 128, 2)"
     ]
    }
   ],
   "source": [
    "num_rounds = 5  # Increase rounds for better generalization\n",
    "global_model = create_resunet_with_attention()\n",
    "\n",
    "def federated_averaging(weight_list):\n",
    "    avg_weights = []\n",
    "    for weights in zip(*weight_list):\n",
    "        avg_weights.append(np.mean(weights, axis=0))\n",
    "    return avg_weights\n",
    "\n",
    "for round_num in range(num_rounds):\n",
    "    local_weights = []\n",
    "    \n",
    "    for hospital in nodes.keys():\n",
    "        print(f\"Training {hospital}...\")\n",
    "\n",
    "        tf.keras.backend.clear_session()\n",
    "        local_model = create_resunet_with_attention()\n",
    "        local_model.set_weights(global_model.get_weights())\n",
    "        \n",
    "        local_model.compile(optimizer='adam', loss=tf.keras.losses.CategoricalCrossentropy(), metrics=['accuracy'])\n",
    "        local_model.fit(DataGenerator(nodes[hospital]), epochs=1)\n",
    "        \n",
    "        local_weights.append(local_model.get_weights())\n",
    "\n",
    "    new_global_weights = federated_averaging(local_weights)\n",
    "    global_model.set_weights(new_global_weights)\n"
   ]
  },
  {
   "cell_type": "code",
   "execution_count": 6,
   "id": "2b03f58f",
   "metadata": {},
   "outputs": [
    {
     "ename": "NameError",
     "evalue": "name 'global_model' is not defined",
     "output_type": "error",
     "traceback": [
      "\u001b[1;31m---------------------------------------------------------------------------\u001b[0m",
      "\u001b[1;31mNameError\u001b[0m                                 Traceback (most recent call last)",
      "Cell \u001b[1;32mIn[6], line 2\u001b[0m\n\u001b[0;32m      1\u001b[0m \u001b[38;5;28;01mfor\u001b[39;00m hospital \u001b[38;5;129;01min\u001b[39;00m nodes\u001b[38;5;241m.\u001b[39mkeys():\n\u001b[1;32m----> 2\u001b[0m     loss, acc \u001b[38;5;241m=\u001b[39m \u001b[43mglobal_model\u001b[49m\u001b[38;5;241m.\u001b[39mevaluate(DataGenerator(nodes[hospital]))\n\u001b[0;32m      3\u001b[0m     \u001b[38;5;28mprint\u001b[39m(\u001b[38;5;124mf\u001b[39m\u001b[38;5;124m\"\u001b[39m\u001b[38;5;124mGlobal Model - \u001b[39m\u001b[38;5;132;01m{\u001b[39;00mhospital\u001b[38;5;132;01m}\u001b[39;00m\u001b[38;5;124m: Accuracy = \u001b[39m\u001b[38;5;132;01m{\u001b[39;00macc\u001b[38;5;132;01m:\u001b[39;00m\u001b[38;5;124m.4f\u001b[39m\u001b[38;5;132;01m}\u001b[39;00m\u001b[38;5;124m, Loss = \u001b[39m\u001b[38;5;132;01m{\u001b[39;00mloss\u001b[38;5;132;01m:\u001b[39;00m\u001b[38;5;124m.4f\u001b[39m\u001b[38;5;132;01m}\u001b[39;00m\u001b[38;5;124m\"\u001b[39m)\n",
      "\u001b[1;31mNameError\u001b[0m: name 'global_model' is not defined"
     ]
    }
   ],
   "source": [
    "for hospital in nodes.keys():\n",
    "    loss, acc = global_model.evaluate(DataGenerator(nodes[hospital]))\n",
    "    print(f\"Global Model - {hospital}: Accuracy = {acc:.4f}, Loss = {loss:.4f}\")\n"
   ]
  },
  {
   "cell_type": "code",
   "execution_count": 7,
   "id": "17351348",
   "metadata": {},
   "outputs": [
    {
     "data": {
      "image/png": "[encoded data removed]",
      "text/plain": [
       "<Figure size 800x500 with 2 Axes>"
      ]
     },
     "metadata": {},
     "output_type": "display_data"
    }
   ],
   "source": [
    "plt.figure(figsize=(8, 5))\n",
    "sns.heatmap(np.random.rand(4, 4), annot=True, cmap=\"coolwarm\", linewidths=0.5)\n",
    "plt.title(\"Dice Score Heatmap\")\n",
    "plt.show()\n"
   ]
  }
 ],
 "metadata": {
  "kernelspec": {
   "display_name": "mlenv",
   "language": "python",
   "name": "python3"
  },
  "language_info": {
   "codemirror_mode": {
    "name": "ipython",
    "version": 3
   },
   "file_extension": ".py",
   "mimetype": "text/x-python",
   "name": "python",
   "nbconvert_exporter": "python",
   "pygments_lexer": "ipython3",
   "version": "3.9.18"
  }
 },
 "nbformat": 4,
 "nbformat_minor": 5
}
