{
 "cells": [
  {
   "cell_type": "markdown",
   "id": "f22f3d75",
   "metadata": {},
   "source": [
    "# Federated Learning with BraTS 2021 Dataset\n",
    "This notebook implements a federated learning framework for brain tumor segmentation using the BraTS 2021 dataset."
   ]
  },
  {
   "cell_type": "code",
   "execution_count": 57,
   "id": "9cd53492",
   "metadata": {},
   "outputs": [],
   "source": [
    "import os\n",
    "import numpy as np\n",
    "import nibabel as nib\n",
    "import tensorflow as tf\n",
    "import cv2\n",
    "from tensorflow import keras\n",
    "from tensorflow.keras import layers\n",
    "import matplotlib.pyplot as plt\n",
    "from sklearn.metrics import roc_curve, auc\n"
   ]
  },
  {
   "cell_type": "code",
   "execution_count": 31,
   "id": "e2c7ce96",
   "metadata": {},
   "outputs": [],
   "source": [
    "images_path = 'Data/BraTS2021'\n",
    "IMG_SIZE = 128  # Resize images to 128x128\n",
    "VOLUME_SLICES = 50  # Number of slices per patient\n",
    "VOLUME_START_AT = 22  # Start slicing from this index\n",
    "REDUCE_PATIENTS = False  # Option to reduce the number of patients per hospital\n",
    "PATIENT_LIMIT = 10  # Number of patients per hospital if REDUCE_PATIENTS is Tru\n",
    "\n",
    "# Load the dataset file paths\n",
    "all_patients = [os.path.join(images_path, p) for p in os.listdir(images_path)]\n",
    "np.random.shuffle(all_patients)"
   ]
  },
  {
   "cell_type": "code",
   "execution_count": 32,
   "id": "24ed6855",
   "metadata": {},
   "outputs": [],
   "source": [
    "# Split dataset among hospitals (nodes)\n",
    "nodes = {\n",
    "    \"Hospital_1\": all_patients[:len(all_patients)//3],\n",
    "    \"Hospital_2\": all_patients[len(all_patients)//3:2*len(all_patients)//3],\n",
    "    \"Hospital_3\": all_patients[2*len(all_patients)//3:]\n",
    "}"
   ]
  },
  {
   "cell_type": "code",
   "execution_count": 50,
   "id": "d9aff78c",
   "metadata": {},
   "outputs": [],
   "source": [
    "# Define Data Generator\n",
    "class DataGenerator(keras.utils.Sequence):\n",
    "    def __init__(self, list_IDs, dim=(IMG_SIZE, IMG_SIZE), batch_size=1, n_channels=2, shuffle=True):\n",
    "        self.dim = dim\n",
    "        self.batch_size = batch_size\n",
    "        self.list_IDs = list_IDs\n",
    "        self.n_channels = n_channels\n",
    "        self.shuffle = shuffle\n",
    "        self.on_epoch_end()\n",
    "\n",
    "    def __len__(self):\n",
    "        return int(np.floor(len(self.list_IDs) / self.batch_size))\n",
    "\n",
    "    def __getitem__(self, index):\n",
    "        indexes = self.indexes[index * self.batch_size:(index + 1) * self.batch_size]\n",
    "        Batch_ids = [self.list_IDs[k] for k in indexes]\n",
    "        X, y = self.__data_generation(Batch_ids)\n",
    "        return X, y\n",
    "\n",
    "    def on_epoch_end(self):\n",
    "        self.indexes = np.arange(len(self.list_IDs))\n",
    "        if self.shuffle:\n",
    "            np.random.shuffle(self.indexes)\n",
    "\n",
    "    def __data_generation(self, Batch_ids):\n",
    "        X = np.zeros((self.batch_size * VOLUME_SLICES, *self.dim, self.n_channels))\n",
    "        y = np.zeros((self.batch_size * VOLUME_SLICES, 240, 240))\n",
    "\n",
    "        for c, i in enumerate(Batch_ids):\n",
    "            case_path = os.path.join(images_path, os.path.basename(i), os.path.basename(i))\n",
    "            flair = nib.load(f'{case_path}_flair.nii').get_fdata()\n",
    "            ce = nib.load(f'{case_path}_t1ce.nii').get_fdata()\n",
    "            seg = nib.load(f'{case_path}_seg.nii').get_fdata()\n",
    "\n",
    "            for j in range(VOLUME_SLICES):\n",
    "                X[j + VOLUME_SLICES * c, :, :, 0] = cv2.resize(flair[:, :, j + VOLUME_START_AT], (IMG_SIZE, IMG_SIZE))\n",
    "                X[j + VOLUME_SLICES * c, :, :, 1] = cv2.resize(ce[:, :, j + VOLUME_START_AT], (IMG_SIZE, IMG_SIZE))\n",
    "                y[j + VOLUME_SLICES * c] = seg[:, :, j + VOLUME_START_AT]\n",
    "\n",
    "        y[y == 4] = 3  # Adjust class values\n",
    "        mask = tf.one_hot(y, 4)\n",
    "        Y = tf.image.resize(mask, (IMG_SIZE, IMG_SIZE), method=tf.image.ResizeMethod.NEAREST_NEIGHBOR)\n",
    "\n",
    "        return X / np.max(X), Y"
   ]
  },
  {
   "cell_type": "code",
   "execution_count": null,
   "id": "17351348",
   "metadata": {},
   "outputs": [],
   "source": [
    "# Distribute dataset into train, validation, and test sets\n",
    "hospitals_data = {}\n",
    "for hospital, files in nodes.items():\n",
    "    np.random.shuffle(files)\n",
    "    train_split = int(0.7 * len(files))\n",
    "    val_split = int(0.85 * len(files))\n",
    "    hospitals_data[hospital] = {\n",
    "        \"train\": DataGenerator(files[:150]),\n",
    "        \"val\": DataGenerator(files[150:180]),\n",
    "        \"test\": DataGenerator(files[180:200])\n",
    "    }\n",
    "\n",
    "\n",
    "# Print dataset shapes for each hospital\n",
    "    print(f\"{hospital}: Train={len(hospitals_data[hospital]['train'])}, Val={len(hospitals_data[hospital]['val'])}, Test={len(hospitals_data[hospital]['test'])}\")"
   ]
  },
  {
   "cell_type": "code",
   "execution_count": null,
   "id": "70e45f6b",
   "metadata": {},
   "outputs": [],
   "source": [
    "# Visualize Some Slices from Each Hospital\n",
    "for hospital, data in hospitals_data.items():\n",
    "    X_sample, y_sample = data['train'].__getitem__(0)\n",
    "    fig, ax = plt.subplots(1, 2, figsize=(10, 5))\n",
    "    ax[0].imshow(X_sample[0, :, :, 0], cmap='gray')\n",
    "    ax[0].set_title(f\"{hospital} - FLAIR\")\n",
    "    ax[1].imshow(np.argmax(y_sample[0], axis=-1), cmap='jet')\n",
    "    ax[1].set_title(f\"{hospital} - Segmentation\")\n",
    "    plt.show()"
   ]
  },
  {
   "cell_type": "code",
   "execution_count": 53,
   "id": "66a832d7",
   "metadata": {},
   "outputs": [],
   "source": [
    "## Cell 5: Define UNet model with proper upsampling\n",
    "def create_unet_model(input_shape=(IMG_SIZE, IMG_SIZE, 2)):\n",
    "    inputs = layers.Input(shape=input_shape)\n",
    "    x = layers.Conv2D(64, (3, 3), activation='relu', padding='same')(inputs)\n",
    "    x = layers.MaxPooling2D((2, 2))(x)\n",
    "    x = layers.Conv2D(128, (3, 3), activation='relu', padding='same')(x)\n",
    "    x = layers.MaxPooling2D((2, 2))(x)\n",
    "    x = layers.Conv2DTranspose(64, (3, 3), activation='relu', padding='same')(x)\n",
    "    x = layers.Conv2DTranspose(4, (4, 4), strides=(4, 4), activation='softmax', padding='same')(x)  # Proper upsampling\n",
    "    return keras.Model(inputs, x)"
   ]
  },
  {
   "cell_type": "code",
   "execution_count": 54,
   "id": "c145f703",
   "metadata": {},
   "outputs": [],
   "source": [
    "# Initialize models for each hospital\n",
    "local_models = {}\n",
    "for hospital in hospitals_data.keys():\n",
    "    local_models[hospital] = create_unet_model()"
   ]
  },
  {
   "cell_type": "code",
   "execution_count": 55,
   "id": "1142c0e9",
   "metadata": {},
   "outputs": [],
   "source": [
    "num_rounds = 1\n",
    "global_model = create_unet_model()\n",
    "\n",
    "def federated_averaging(weight_list):\n",
    "    avg_weights = []\n",
    "    for weights in zip(*weight_list):\n",
    "        avg_weights.append(np.mean(weights, axis=0))\n",
    "    return avg_weights\n"
   ]
  },
  {
   "cell_type": "code",
   "execution_count": null,
   "id": "8d12d2ba",
   "metadata": {},
   "outputs": [],
   "source": [
    "for round_num in range(num_rounds):\n",
    "    local_weights = []\n",
    "    \n",
    "    for hospital in hospitals_data.keys():\n",
    "        print(f\"Training {hospital}...\")\n",
    "\n",
    "        # Free memory before training each hospital\n",
    "        tf.keras.backend.clear_session()\n",
    "\n",
    "        # Create a fresh model to avoid memory leak\n",
    "        local_model = create_unet_model()\n",
    "        local_model.set_weights(global_model.get_weights())\n",
    "        \n",
    "        # Compile and train\n",
    "        local_model.compile(optimizer='adam', loss=tf.keras.losses.CategoricalCrossentropy(), metrics=['accuracy'])\n",
    "        local_model.fit(hospitals_data[hospital]['train'], epochs=1, validation_data=hospitals_data[hospital]['val'])\n",
    "        \n",
    "        # Save trained weights\n",
    "        local_weights.append(local_model.get_weights())\n",
    "\n",
    "    new_global_weights = federated_averaging(local_weights)\n",
    "    global_model.set_weights(new_global_weights)\n"
   ]
  },
  {
   "cell_type": "code",
   "execution_count": null,
   "id": "493f9cc2",
   "metadata": {},
   "outputs": [],
   "source": [
    "# Ensure the global model is compiled before evaluation\n",
    "global_model.compile(optimizer='adam', loss=tf.keras.losses.CategoricalCrossentropy(), metrics=['accuracy'])\n",
    "\n",
    "# Evaluate the global model on each hospital's test set\n",
    "for hospital, data in hospitals_data.items():\n",
    "    loss, acc = global_model.evaluate(data[\"test\"])\n",
    "    print(f\"Global Model - {hospital}: Accuracy = {acc:.4f}, Loss = {loss:.4f}\")\n"
   ]
  },
  {
   "cell_type": "code",
   "execution_count": null,
   "id": "f875928b",
   "metadata": {},
   "outputs": [],
   "source": [
    "# Ensure the global model is compiled before evaluation\n",
    "global_model.compile(optimizer='adam', loss=tf.keras.losses.CategoricalCrossentropy(), metrics=['accuracy'])\n",
    "\n",
    "# Evaluate on each hospital's test set\n",
    "global_results = {}\n",
    "for hospital, data in hospitals_data.items():\n",
    "    loss, acc = global_model.evaluate(data[\"test\"])\n",
    "    global_results[hospital] = {\"Loss\": loss, \"Accuracy\": acc}\n",
    "    print(f\"Global Model - {hospital}: Accuracy = {acc:.4f}, Loss = {loss:.4f}\")\n"
   ]
  },
  {
   "cell_type": "code",
   "execution_count": null,
   "id": "c7cceb2c",
   "metadata": {},
   "outputs": [],
   "source": [
    "# Ensure local models are compiled before evaluation\n",
    "local_results = {}\n",
    "for hospital, model in local_models.items():\n",
    "    model.compile(optimizer='adam', loss=tf.keras.losses.CategoricalCrossentropy(), metrics=['accuracy'])\n",
    "    loss, acc = model.evaluate(hospitals_data[hospital]['test'])\n",
    "    local_results[hospital] = {\"Loss\": loss, \"Accuracy\": acc}\n",
    "    print(f\"Local Model - {hospital}: Accuracy = {acc:.4f}, Loss = {loss:.4f}\")\n",
    "\n",
    "# Compare local vs. global accuracy\n",
    "for hospital in hospitals_data.keys():\n",
    "    print(f\"{hospital} - Local Model Accuracy: {local_results[hospital]['Accuracy']:.4f}, Global Model Accuracy: {global_results[hospital]['Accuracy']:.4f}\")\n"
   ]
  },
  {
   "cell_type": "code",
   "execution_count": null,
   "id": "c188464b",
   "metadata": {},
   "outputs": [],
   "source": [
    "# Extract accuracy values\n",
    "hospitals = list(hospitals_data.keys())\n",
    "local_accuracies = [local_results[h][\"Accuracy\"] for h in hospitals]\n",
    "global_accuracies = [global_results[h][\"Accuracy\"] for h in hospitals]\n",
    "\n",
    "# Plot accuracy comparison\n",
    "plt.figure(figsize=(8, 5))\n",
    "plt.bar(hospitals, local_accuracies, alpha=0.6, label=\"Local Models\")\n",
    "plt.bar(hospitals, global_accuracies, alpha=0.6, label=\"Global Model\")\n",
    "plt.xlabel(\"Hospitals\")\n",
    "plt.ylabel(\"Accuracy\")\n",
    "plt.title(\"Local vs Global Model Accuracy\")\n",
    "plt.legend()\n",
    "plt.show()\n"
   ]
  },
  {
   "cell_type": "code",
   "execution_count": null,
   "id": "5f7446ec",
   "metadata": {},
   "outputs": [],
   "source": [
    "for hospital, data in hospitals_data.items():\n",
    "    y_true = np.argmax(np.vstack([y for _, y in data[\"test\"]]), axis=-1).flatten()\n",
    "    y_pred = np.argmax(global_model.predict(data[\"test\"]), axis=-1).flatten()\n",
    "\n",
    "    fpr, tpr, _ = roc_curve(y_true.ravel(), y_pred.ravel(), pos_label=1)\n",
    "    roc_auc = auc(fpr, tpr)\n",
    "\n",
    "    plt.plot(fpr, tpr, label=f\"{hospital} (AUC = {roc_auc:.2f})\")\n",
    "\n",
    "plt.plot([0, 1], [0, 1], 'k--')\n",
    "plt.xlabel(\"False Positive Rate\")\n",
    "plt.ylabel(\"True Positive Rate\")\n",
    "plt.title(\"ROC Curve for Global Model on Each Hospital\")\n",
    "plt.legend()\n",
    "plt.show()\n"
   ]
  },
  {
   "cell_type": "code",
   "execution_count": null,
   "id": "59f8dab0",
   "metadata": {},
   "outputs": [],
   "source": []
  }
 ],
 "metadata": {
  "kernelspec": {
   "display_name": "base",
   "language": "python",
   "name": "python3"
  },
  "language_info": {
   "codemirror_mode": {
    "name": "ipython",
    "version": 3
   },
   "file_extension": ".py",
   "mimetype": "text/x-python",
   "name": "python",
   "nbconvert_exporter": "python",
   "pygments_lexer": "ipython3",
   "version": "3.12.4"
  }
 },
 "nbformat": 4,
 "nbformat_minor": 5
}
