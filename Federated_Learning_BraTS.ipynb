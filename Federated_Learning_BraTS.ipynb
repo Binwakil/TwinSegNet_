{
 "cells": [
  {
   "cell_type": "markdown",
   "id": "f22f3d75",
   "metadata": {},
   "source": [
    "# Federated Learning with BraTS 2021 Dataset\n",
    "This notebook implements a federated learning framework for brain tumor segmentation using the BraTS 2021 dataset."
   ]
  },
  {
   "cell_type": "code",
   "execution_count": 1,
   "id": "9cd53492",
   "metadata": {},
   "outputs": [],
   "source": [
    "import os\n",
    "import numpy as np\n",
    "import nibabel as nib\n",
    "import cv2\n",
    "import tensorflow as tf\n",
    "from tensorflow import keras\n",
    "from tensorflow.keras import layers\n",
    "import matplotlib.pyplot as plt"
   ]
  },
  {
   "cell_type": "code",
   "execution_count": 2,
   "id": "e2c7ce96",
   "metadata": {},
   "outputs": [],
   "source": [
    "# Define dataset path and configurations\n",
    "images_path = 'Data/BraTS2021'\n",
    "IMG_SIZE = 128  # Resize images to 128x128\n",
    "VOLUME_SLICES = 50  # Number of slices per patient\n",
    "VOLUME_START_AT = 22  # Start slicing from this index\n",
    "\n",
    "# Load the dataset file paths\n",
    "all_patients = [os.path.join(images_path, p) for p in os.listdir(images_path)]\n",
    "np.random.shuffle(all_patients)"
   ]
  },
  {
   "cell_type": "code",
   "execution_count": 3,
   "id": "24ed6855",
   "metadata": {},
   "outputs": [],
   "source": [
    "# Split dataset among hospitals (nodes)\n",
    "nodes = {\n",
    "    \"Hospital_1\": all_patients[:len(all_patients)//3],\n",
    "    \"Hospital_2\": all_patients[len(all_patients)//3:2*len(all_patients)//3],\n",
    "    \"Hospital_3\": all_patients[2*len(all_patients)//3:]\n",
    "}"
   ]
  },
  {
   "cell_type": "code",
   "execution_count": 4,
   "id": "d9aff78c",
   "metadata": {},
   "outputs": [],
   "source": [
    "# Define Data Generator\n",
    "class DataGenerator(keras.utils.Sequence):\n",
    "    def __init__(self, list_IDs, dim=(IMG_SIZE, IMG_SIZE), batch_size=1, n_channels=2, shuffle=True):\n",
    "        self.dim = dim\n",
    "        self.batch_size = batch_size\n",
    "        self.list_IDs = list_IDs\n",
    "        self.n_channels = n_channels\n",
    "        self.shuffle = shuffle\n",
    "        self.on_epoch_end()\n",
    "\n",
    "    def __len__(self):\n",
    "        return int(np.floor(len(self.list_IDs) / self.batch_size))\n",
    "\n",
    "    def __getitem__(self, index):\n",
    "        indexes = self.indexes[index * self.batch_size:(index + 1) * self.batch_size]\n",
    "        Batch_ids = [self.list_IDs[k] for k in indexes]\n",
    "        X, y = self.__data_generation(Batch_ids)\n",
    "        return X, y\n",
    "\n",
    "    def on_epoch_end(self):\n",
    "        self.indexes = np.arange(len(self.list_IDs))\n",
    "        if self.shuffle:\n",
    "            np.random.shuffle(self.indexes)\n",
    "\n",
    "    def __data_generation(self, Batch_ids):\n",
    "        X = np.zeros((self.batch_size * VOLUME_SLICES, *self.dim, self.n_channels))\n",
    "        y = np.zeros((self.batch_size * VOLUME_SLICES, 240, 240))\n",
    "\n",
    "        for c, i in enumerate(Batch_ids):\n",
    "            case_path = os.path.join(images_path, os.path.basename(i), os.path.basename(i))\n",
    "            flair = nib.load(f'{case_path}_flair.nii').get_fdata()\n",
    "            ce = nib.load(f'{case_path}_t1ce.nii').get_fdata()\n",
    "            seg = nib.load(f'{case_path}_seg.nii').get_fdata()\n",
    "\n",
    "            for j in range(VOLUME_SLICES):\n",
    "                X[j + VOLUME_SLICES * c, :, :, 0] = cv2.resize(flair[:, :, j + VOLUME_START_AT], (IMG_SIZE, IMG_SIZE))\n",
    "                X[j + VOLUME_SLICES * c, :, :, 1] = cv2.resize(ce[:, :, j + VOLUME_START_AT], (IMG_SIZE, IMG_SIZE))\n",
    "                y[j + VOLUME_SLICES * c] = seg[:, :, j + VOLUME_START_AT]\n",
    "\n",
    "        y[y == 4] = 3  # Adjust class values\n",
    "        mask = tf.one_hot(y, 4)\n",
    "        Y = tf.image.resize(mask, (IMG_SIZE, IMG_SIZE), method=tf.image.ResizeMethod.NEAREST_NEIGHBOR)\n",
    "\n",
    "        return X / np.max(X), Y"
   ]
  },
  {
   "cell_type": "code",
   "execution_count": 5,
   "id": "17351348",
   "metadata": {},
   "outputs": [],
   "source": [
    "# Distribute dataset into train, validation, and test sets\n",
    "hospitals_data = {}\n",
    "for hospital, files in nodes.items():\n",
    "    np.random.shuffle(files)\n",
    "    train_split = int(0.7 * len(files))\n",
    "    val_split = int(0.85 * len(files))\n",
    "    hospitals_data[hospital] = {\n",
    "        \"train\": DataGenerator(files[:train_split]),\n",
    "        \"val\": DataGenerator(files[train_split:val_split]),\n",
    "        \"test\": DataGenerator(files[val_split:])\n",
    "    }"
   ]
  },
  {
   "cell_type": "code",
   "execution_count": 6,
   "id": "66a832d7",
   "metadata": {},
   "outputs": [],
   "source": [
    "# Define UNet model for segmentation\n",
    "def create_unet_model(input_shape=(IMG_SIZE, IMG_SIZE, 2)):\n",
    "    inputs = layers.Input(shape=input_shape)\n",
    "    x = layers.Conv2D(64, (3, 3), activation='relu', padding='same')(inputs)\n",
    "    x = layers.MaxPooling2D((2, 2))(x)\n",
    "    x = layers.Conv2D(128, (3, 3), activation='relu', padding='same')(x)\n",
    "    x = layers.MaxPooling2D((2, 2))(x)\n",
    "    x = layers.Conv2DTranspose(64, (3, 3), activation='relu', padding='same')(x)\n",
    "    x = layers.Conv2D(4, (1, 1), activation='softmax')(x)\n",
    "    return keras.Model(inputs, x)"
   ]
  },
  {
   "cell_type": "code",
   "execution_count": 7,
   "id": "c145f703",
   "metadata": {},
   "outputs": [],
   "source": [
    "# Initialize models for each hospital\n",
    "local_models = {}\n",
    "for hospital in hospitals_data.keys():\n",
    "    local_models[hospital] = create_unet_model()"
   ]
  },
  {
   "cell_type": "code",
   "execution_count": 8,
   "id": "1142c0e9",
   "metadata": {},
   "outputs": [
    {
     "ename": "",
     "evalue": "",
     "output_type": "error",
     "traceback": [
      "\u001b[1;31mThe Kernel crashed while executing code in the current cell or a previous cell. \n",
      "\u001b[1;31mPlease review the code in the cell(s) to identify a possible cause of the failure. \n",
      "\u001b[1;31mClick <a href='https://aka.ms/vscodeJupyterKernelCrash'>here</a> for more info. \n",
      "\u001b[1;31mView Jupyter <a href='command:jupyter.viewOutput'>log</a> for further details."
     ]
    }
   ],
   "source": [
    "# Federated Training Process\n",
    "num_rounds = 1\n",
    "global_model = create_unet_model()\n",
    "\n",
    "def federated_averaging(weight_list):\n",
    "    avg_weights = []\n",
    "    for weights in zip(*weight_list):\n",
    "        avg_weights.append(np.mean(weights, axis=0))\n",
    "    return avg_weights\n",
    "\n",
    "for round_num in range(num_rounds):\n",
    "    local_weights = []\n",
    "    \n",
    "    for hospital, model in local_models.items():\n",
    "        model.set_weights(global_model.get_weights())\n",
    "        model.compile(optimizer='adam', loss=tf.keras.losses.CategoricalCrossentropy(), metrics=['accuracy'])\n",
    "        model.fit(hospitals_data[hospital]['train'], epochs=1, validation_data=hospitals_data[hospital]['val'])\n",
    "        local_weights.append(model.get_weights())\n",
    "    \n",
    "    new_global_weights = federated_averaging(local_weights)\n",
    "    global_model.set_weights(new_global_weights)"
   ]
  },
  {
   "cell_type": "code",
   "execution_count": null,
   "id": "c7cceb2c",
   "metadata": {},
   "outputs": [],
   "source": [
    "# Evaluation on test sets\n",
    "metrics = {}\n",
    "for hospital, model in local_models.items():\n",
    "    loss, acc = model.evaluate(hospitals_data[hospital]['test'])\n",
    "    metrics[hospital] = {'Loss': loss, 'Accuracy': acc}"
   ]
  },
  {
   "cell_type": "code",
   "execution_count": null,
   "id": "c188464b",
   "metadata": {},
   "outputs": [],
   "source": [
    "# Plot Results\n",
    "hospitals = list(metrics.keys())\n",
    "accuracy = [metrics[h]['Accuracy'] for h in hospitals]\n",
    "plt.bar(hospitals, accuracy)\n",
    "plt.ylabel('Accuracy')\n",
    "plt.title('Accuracy Comparison: Local vs. Global Models')\n",
    "plt.show()"
   ]
  },
  {
   "cell_type": "code",
   "execution_count": null,
   "id": "5f7446ec",
   "metadata": {},
   "outputs": [],
   "source": [
    "# Print evaluation results\n",
    "for hospital, metric in metrics.items():\n",
    "    print(f\"{hospital} - Loss: {metric['Loss']:.4f}, Accuracy: {metric['Accuracy']:.4f}\")"
   ]
  },
  {
   "cell_type": "code",
   "execution_count": null,
   "id": "59f8dab0",
   "metadata": {},
   "outputs": [],
   "source": []
  }
 ],
 "metadata": {
  "kernelspec": {
   "display_name": "mlenv",
   "language": "python",
   "name": "python3"
  },
  "language_info": {
   "codemirror_mode": {
    "name": "ipython",
    "version": 3
   },
   "file_extension": ".py",
   "mimetype": "text/x-python",
   "name": "python",
   "nbconvert_exporter": "python",
   "pygments_lexer": "ipython3",
   "version": "3.9.18"
  }
 },
 "nbformat": 4,
 "nbformat_minor": 5
}
