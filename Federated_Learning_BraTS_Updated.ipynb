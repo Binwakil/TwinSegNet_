{
 "cells": [
  {
   "cell_type": "markdown",
   "id": "1b72956b",
   "metadata": {},
   "source": [
    "# Federated Learning with BraTS 2021 Dataset\n",
    "This notebook implements a federated learning framework for brain tumor segmentation using the BraTS 2021 dataset."
   ]
  },
  {
   "cell_type": "code",
   "execution_count": 1,
   "id": "4388dc82",
   "metadata": {},
   "outputs": [],
   "source": [
    "import os\n",
    "import numpy as np\n",
    "import nibabel as nib\n",
    "import cv2\n",
    "import tensorflow as tf\n",
    "from tensorflow import keras\n",
    "from tensorflow.keras import layers\n",
    "import matplotlib.pyplot as plt"
   ]
  },
  {
   "cell_type": "code",
   "execution_count": 2,
   "id": "e8cb3ba9",
   "metadata": {},
   "outputs": [],
   "source": [
    "# Define dataset path and configurations\n",
    "images_path = 'Data/BraTS2021'\n",
    "IMG_SIZE = 128  # Resize images to 128x128\n",
    "VOLUME_SLICES = 50  # Number of slices per patient\n",
    "VOLUME_START_AT = 22  # Start slicing from this index\n",
    "REDUCE_PATIENTS = False  # Option to reduce the number of patients per hospital\n",
    "PATIENT_LIMIT = 10  # Number of patients per hospital if REDUCE_PATIENTS is True\n",
    "\n",
    "# Load the dataset file paths\n",
    "all_patients = [os.path.join(images_path, p) for p in os.listdir(images_path)]\n",
    "np.random.shuffle(all_patients)\n",
    "\n",
    "# Optionally reduce dataset size\n",
    "if REDUCE_PATIENTS:\n",
    "    all_patients = all_patients[:PATIENT_LIMIT * 3]  # Total patients across hospitals"
   ]
  },
  {
   "cell_type": "code",
   "execution_count": 3,
   "id": "842b8f17",
   "metadata": {},
   "outputs": [
    {
     "name": "stdout",
     "output_type": "stream",
     "text": [
      "Hospital_1 has 417 patients\n",
      "Hospital_2 has 417 patients\n",
      "Hospital_3 has 417 patients\n"
     ]
    }
   ],
   "source": [
    "# Split dataset among hospitals (nodes)\n",
    "nodes = {\n",
    "    \"Hospital_1\": all_patients[:len(all_patients)//3],\n",
    "    \"Hospital_2\": all_patients[len(all_patients)//3:2*len(all_patients)//3],\n",
    "    \"Hospital_3\": all_patients[2*len(all_patients)//3:]\n",
    "}\n",
    "\n",
    "# Print number of patients assigned to each hospital\n",
    "for hospital, patients in nodes.items():\n",
    "    print(f\"{hospital} has {len(patients)} patients\")"
   ]
  },
  {
   "cell_type": "code",
   "execution_count": 4,
   "id": "1d6ae507",
   "metadata": {},
   "outputs": [],
   "source": [
    "# Define Data Generator\n",
    "class DataGenerator(keras.utils.Sequence):\n",
    "    def __init__(self, list_IDs, dim=(IMG_SIZE, IMG_SIZE), batch_size=1, n_channels=2, shuffle=True):\n",
    "        self.dim = dim\n",
    "        self.batch_size = batch_size\n",
    "        self.list_IDs = list_IDs\n",
    "        self.n_channels = n_channels\n",
    "        self.shuffle = shuffle\n",
    "        self.on_epoch_end()\n",
    "\n",
    "    def __len__(self):\n",
    "        return int(np.floor(len(self.list_IDs) / self.batch_size))\n",
    "\n",
    "    def __getitem__(self, index):\n",
    "        indexes = self.indexes[index * self.batch_size:(index + 1) * self.batch_size]\n",
    "        Batch_ids = [self.list_IDs[k] for k in indexes]\n",
    "        X, y = self.__data_generation(Batch_ids)\n",
    "        return X, y\n",
    "\n",
    "    def on_epoch_end(self):\n",
    "        self.indexes = np.arange(len(self.list_IDs))\n",
    "        if self.shuffle:\n",
    "            np.random.shuffle(self.indexes)\n",
    "\n",
    "    def __data_generation(self, Batch_ids):\n",
    "        X = np.zeros((self.batch_size * VOLUME_SLICES, *self.dim, self.n_channels))\n",
    "        y = np.zeros((self.batch_size * VOLUME_SLICES, IMG_SIZE, IMG_SIZE, 4))\n",
    "\n",
    "        for c, i in enumerate(Batch_ids):\n",
    "            case_path = os.path.join(images_path, os.path.basename(i), os.path.basename(i))\n",
    "            flair = nib.load(f'{case_path}_flair.nii').get_fdata()\n",
    "            ce = nib.load(f'{case_path}_t1ce.nii').get_fdata()\n",
    "            seg = nib.load(f'{case_path}_seg.nii').get_fdata()\n",
    "\n",
    "            for j in range(VOLUME_SLICES):\n",
    "                X[j + VOLUME_SLICES * c, :, :, 0] = cv2.resize(flair[:, :, j + VOLUME_START_AT], (IMG_SIZE, IMG_SIZE))\n",
    "                X[j + VOLUME_SLICES * c, :, :, 1] = cv2.resize(ce[:, :, j + VOLUME_START_AT], (IMG_SIZE, IMG_SIZE))\n",
    "                label = cv2.resize(seg[:, :, j + VOLUME_START_AT], (IMG_SIZE, IMG_SIZE), interpolation=cv2.INTER_NEAREST)\n",
    "                y[j + VOLUME_SLICES * c] = tf.one_hot(label, depth=4)\n",
    "\n",
    "        return X / np.max(X), y"
   ]
  },
  {
   "cell_type": "code",
   "execution_count": 1,
   "id": "ea9c5c01",
   "metadata": {},
   "outputs": [
    {
     "ename": "NameError",
     "evalue": "name 'nodes' is not defined",
     "output_type": "error",
     "traceback": [
      "\u001b[1;31m---------------------------------------------------------------------------\u001b[0m",
      "\u001b[1;31mNameError\u001b[0m                                 Traceback (most recent call last)",
      "Cell \u001b[1;32mIn[1], line 3\u001b[0m\n\u001b[0;32m      1\u001b[0m \u001b[38;5;66;03m# Distribute dataset into train, validation, and test sets\u001b[39;00m\n\u001b[0;32m      2\u001b[0m hospitals_data \u001b[38;5;241m=\u001b[39m {}\n\u001b[1;32m----> 3\u001b[0m \u001b[38;5;28;01mfor\u001b[39;00m hospital, files \u001b[38;5;129;01min\u001b[39;00m \u001b[43mnodes\u001b[49m\u001b[38;5;241m.\u001b[39mitems():\n\u001b[0;32m      4\u001b[0m     np\u001b[38;5;241m.\u001b[39mrandom\u001b[38;5;241m.\u001b[39mshuffle(files)\n\u001b[0;32m      5\u001b[0m     train_split \u001b[38;5;241m=\u001b[39m \u001b[38;5;28mint\u001b[39m(\u001b[38;5;241m0.7\u001b[39m \u001b[38;5;241m*\u001b[39m \u001b[38;5;28mlen\u001b[39m(files))\n",
      "\u001b[1;31mNameError\u001b[0m: name 'nodes' is not defined"
     ]
    }
   ],
   "source": [
    "# Distribute dataset into train, validation, and test sets\n",
    "hospitals_data = {}\n",
    "for hospital, files in nodes.items():\n",
    "    np.random.shuffle(files)\n",
    "    train_split = int(0.7 * len(files))\n",
    "    val_split = int(0.85 * len(files))\n",
    "    hospitals_data[hospital] = {\n",
    "        \"train\": DataGenerator(files[:train_split]),\n",
    "        \"val\": DataGenerator(files[train_split:val_split]),\n",
    "        \"test\": DataGenerator(files[val_split:])\n",
    "    }\n",
    "\n",
    "    # Print dataset shapes for each hospital\n",
    "    print(f\"{hospital}: Train={len(hospitals_data[hospital]['train'])}, Val={len(hospitals_data[hospital]['val'])}, Test={len(hospitals_data[hospital]['test'])}\")"
   ]
  },
  {
   "cell_type": "code",
   "execution_count": null,
   "id": "5d16c6cb",
   "metadata": {},
   "outputs": [],
   "source": [
    "# Visualize Some Slices from Each Hospital\n",
    "for hospital, data in hospitals_data.items():\n",
    "    X_sample, y_sample = data['train'].__getitem__(0)\n",
    "    fig, ax = plt.subplots(1, 2, figsize=(10, 5))\n",
    "    ax[0].imshow(X_sample[0, :, :, 0], cmap='gray')\n",
    "    ax[0].set_title(f\"{hospital} - FLAIR\")\n",
    "    ax[1].imshow(np.argmax(y_sample[0], axis=-1), cmap='jet')\n",
    "    ax[1].set_title(f\"{hospital} - Segmentation\")\n",
    "    plt.show()"
   ]
  },
  {
   "cell_type": "code",
   "execution_count": null,
   "id": "92a79545",
   "metadata": {},
   "outputs": [],
   "source": [
    "# Define UNet Model\n",
    "def create_unet_model(input_shape=(IMG_SIZE, IMG_SIZE, 2)):\n",
    "    inputs = layers.Input(shape=input_shape)\n",
    "    x = layers.Conv2D(64, (3, 3), activation='relu', padding='same')(inputs)\n",
    "    x = layers.MaxPooling2D((2, 2))(x)\n",
    "    x = layers.Conv2D(128, (3, 3), activation='relu', padding='same')(x)\n",
    "    x = layers.MaxPooling2D((2, 2))(x)\n",
    "    x = layers.Conv2DTranspose(64, (3, 3), activation='relu', padding='same')(x)\n",
    "    x = layers.Conv2D(4, (1, 1), activation='softmax', padding='same')(x)\n",
    "    return keras.Model(inputs, x)"
   ]
  }
 ],
 "metadata": {
  "kernelspec": {
   "display_name": "mlenv",
   "language": "python",
   "name": "python3"
  },
  "language_info": {
   "codemirror_mode": {
    "name": "ipython",
    "version": 3
   },
   "file_extension": ".py",
   "mimetype": "text/x-python",
   "name": "python",
   "nbconvert_exporter": "python",
   "pygments_lexer": "ipython3",
   "version": "3.9.18"
  }
 },
 "nbformat": 4,
 "nbformat_minor": 5
}
